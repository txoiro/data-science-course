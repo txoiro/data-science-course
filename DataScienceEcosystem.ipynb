{
 "cells": [
  {
   "cell_type": "markdown",
   "id": "f17b0182-aec6-49cd-a924-4d023d2d5496",
   "metadata": {},
   "source": [
    "# Data Science Tools and Ecosystem\n",
    "\n"
   ]
  },
  {
   "cell_type": "markdown",
   "id": "bdffbb2b-e055-4dc9-a2df-10ab595f2e92",
   "metadata": {},
   "source": [
    "In this notebook, Data Science Tools and Ecosystem are summarized."
   ]
  },
  {
   "cell_type": "markdown",
   "id": "88c29e50-4caa-4cee-828e-6253895c0382",
   "metadata": {},
   "source": [
    "* Objectives:\n",
    "- List popular languages for Data Science\n",
    "- List common libraries used by data scientists\n",
    "- Print output of aritmetic operations"
   ]
  },
  {
   "cell_type": "markdown",
   "id": "871142c7-ae67-41a2-b2d5-d3db5232efd3",
   "metadata": {},
   "source": [
    "Some of the commonly used libraries used by Data Scientists include:\n",
    "1. PyTorch\n",
    "2. Tensor Flow\n",
    "3. Keras"
   ]
  },
  {
   "cell_type": "markdown",
   "id": "a7b3c324-4c96-4f7d-a477-43b53f8b7c47",
   "metadata": {},
   "source": [
    "Some of the popular languages that Data Scientists use are:\n",
    "1. Python\n",
    "2. Julia\n",
    "3. R"
   ]
  },
  {
   "cell_type": "markdown",
   "id": "6dd9e2cd-3c8f-4ee1-b809-72a19a8b0093",
   "metadata": {},
   "source": [
    "|Data Science Tools|\n",
    "|:-----------------|\n",
    "|Visual Studio     |\n",
    "|Jupyter Notebook  |\n",
    "|Anaconda          |\n",
    "### Below are a few examples of evaluating arithmetic expressions in Python\n"
   ]
  },
  {
   "cell_type": "code",
   "execution_count": 1,
   "id": "650dd905-9c03-43ba-871b-275ebe4073c7",
   "metadata": {
    "tags": []
   },
   "outputs": [
    {
     "name": "stdout",
     "output_type": "stream",
     "text": [
      "17\n"
     ]
    }
   ],
   "source": [
    " # This a simple arithmetic expression to mutiply then add integers\n",
    " f = (3*4)+5\n",
    " print(f)\n"
   ]
  },
  {
   "cell_type": "code",
   "execution_count": 2,
   "id": "0e5566dc-dcbb-4460-a664-6be3790b5f64",
   "metadata": {
    "tags": []
   },
   "outputs": [
    {
     "name": "stdout",
     "output_type": "stream",
     "text": [
      "3.3333333333333335\n"
     ]
    }
   ],
   "source": [
    "# This will convert 200 minutes to hours by diving by 60\n",
    "minutes = 200\n",
    "hours = minutes / 60\n",
    "print (hours)"
   ]
  },
  {
   "cell_type": "code",
   "execution_count": null,
   "id": "2ae4b95a-d3f6-43cb-870b-4aa6e6b0ec09",
   "metadata": {},
   "outputs": [],
   "source": [
    "## Author\n",
    "Filipe Paiva"
   ]
  }
 ],
 "metadata": {
  "kernelspec": {
   "display_name": "Python",
   "language": "python",
   "name": "conda-env-python-py"
  },
  "language_info": {
   "codemirror_mode": {
    "name": "ipython",
    "version": 3
   },
   "file_extension": ".py",
   "mimetype": "text/x-python",
   "name": "python",
   "nbconvert_exporter": "python",
   "pygments_lexer": "ipython3",
   "version": "3.7.12"
  }
 },
 "nbformat": 4,
 "nbformat_minor": 5
}
